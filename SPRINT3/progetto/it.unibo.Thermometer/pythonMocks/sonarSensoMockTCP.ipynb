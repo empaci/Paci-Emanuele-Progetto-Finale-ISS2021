{
 "cells": [
  {
   "cell_type": "code",
   "execution_count": null,
   "metadata": {},
   "outputs": [
    {
     "name": "stdout",
     "output_type": "stream",
     "text": [
      "CONNECTED  ('192.168.1.68', 8070)\n",
      "10\n",
      "INPUT 10\n",
      "emit  msg(weightData ,dispatch,python,weight_sensor,weightData(10),5)\n",
      "100\n",
      "emit  msg(weightData ,dispatch,python,weight_sensor,weightData(100),5)\n"
     ]
    }
   ],
   "source": [
    "## sonarResourceCallerTCP\n",
    "## simulates sonar data emitted using TCP on port 8028\n",
    "## the perceiver is the qak sonarresource (project it.unibo.sonarAsResource)\n",
    "import socket\n",
    "import time\n",
    "\n",
    "port = 8070\n",
    "sock = socket.socket(socket.AF_INET, socket.SOCK_STREAM)\n",
    "\n",
    "msgdispatch   = \"msg(weightData ,dispatch,python,weight_sensor,weightData(VALUE),5)\"\n",
    "### msgevent      = \"msg(weightData ,event,python,resourceandco,weightData(VALUE),10)\"\n",
    "### alarm = \"msg(alarm,event,python,none,alarm(fire),3)\"\n",
    "\n",
    "def connect(port) :\n",
    "    server_address = ('192.168.1.68', port)      ##localhost\n",
    "    sock.connect(server_address)    \n",
    "    print(\"CONNECTED \" , server_address)\n",
    "\n",
    "def emit( event ) :\n",
    "    print(\"emit \", event)\n",
    "    msg = event + \"\\n\"\n",
    "    byt=msg.encode()    #required in Python3\n",
    "    sock.send(byt)\n",
    "    \n",
    "def forward( message ) :\n",
    "    print(\"forward \", message)\n",
    "    msg = message + \"\\n\"\n",
    "    byt=msg.encode()    #required in Python3\n",
    "    sock.send(byt)\n",
    "\n",
    "def request( message ) :\n",
    "    print(\"request \", message)\n",
    "    msg = message + \"\\n\"\n",
    "    byt=msg.encode()    #required in Python3\n",
    "    sock.send(byt)\n",
    "    handleAnswer()\n",
    "\n",
    "def handleAnswer() :\n",
    "    print(\"handleAnswer \" )\n",
    "    while True:  ##client wants to maintain the connection\n",
    "        reply = ''\n",
    "        while True:\n",
    "            answer = sock.recv(50)\n",
    "            ## print(\"answer len=\", len(answer))\n",
    "            if len(answer) <= 0 :\n",
    "                break\n",
    "            reply += answer.decode(\"utf-8\")\n",
    "            ## print(\"reply=\", reply)\n",
    "            if reply.endswith(\"\\n\") :\n",
    "                break\n",
    "        print(\"final reply=\", reply)\n",
    "        break\n",
    "\n",
    "def terminate() :\n",
    "    sock.close()\n",
    "    print(\"BYE\")\n",
    "    \n",
    "def console() :  \n",
    "    v =  str( input() )\n",
    "    print(\"INPUT\" , v  )    \n",
    "    while( v != \"q\"  ) :\n",
    "        ## print( v )\n",
    "        emit(  msgdispatch.replace(\"VALUE\", v) )\n",
    "        v = str(input() )      \n",
    "\n",
    "###########################################    \n",
    "connect(port)\n",
    "console()\n",
    "##terminate()"
   ]
  },
  {
   "cell_type": "code",
   "execution_count": null,
   "metadata": {},
   "outputs": [],
   "source": []
  }
 ],
 "metadata": {
  "kernelspec": {
   "display_name": "Python 3",
   "language": "python",
   "name": "python3"
  },
  "language_info": {
   "codemirror_mode": {
    "name": "ipython",
    "version": 3
   },
   "file_extension": ".py",
   "mimetype": "text/x-python",
   "name": "python",
   "nbconvert_exporter": "python",
   "pygments_lexer": "ipython3",
   "version": "3.8.10"
  }
 },
 "nbformat": 4,
 "nbformat_minor": 4
}
